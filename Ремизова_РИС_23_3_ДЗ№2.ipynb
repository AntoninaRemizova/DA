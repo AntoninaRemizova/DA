{
  "nbformat": 4,
  "nbformat_minor": 0,
  "metadata": {
    "colab": {
      "provenance": [],
      "authorship_tag": "ABX9TyNwK1uylZewvYwOhyq83CcM",
      "include_colab_link": true
    },
    "kernelspec": {
      "name": "python3",
      "display_name": "Python 3"
    },
    "language_info": {
      "name": "python"
    }
  },
  "cells": [
    {
      "cell_type": "markdown",
      "metadata": {
        "id": "view-in-github",
        "colab_type": "text"
      },
      "source": [
        "<a href=\"https://colab.research.google.com/github/AntoninaRemizova/DA/blob/main/%D0%A0%D0%B5%D0%BC%D0%B8%D0%B7%D0%BE%D0%B2%D0%B0_%D0%A0%D0%98%D0%A1_23_3_%D0%94%D0%97%E2%84%962.ipynb\" target=\"_parent\"><img src=\"https://colab.research.google.com/assets/colab-badge.svg\" alt=\"Open In Colab\"/></a>"
      ]
    },
    {
      "cell_type": "markdown",
      "source": [
        "# Импорт библиотек и загрузка данных"
      ],
      "metadata": {
        "id": "7O-QG_1qirwv"
      }
    },
    {
      "cell_type": "code",
      "source": [
        "import numpy as np\n",
        "import pandas as pd\n",
        "import statsmodels.formula.api as smf\n",
        "from matplotlib import pyplot as plt\n",
        "from sklearn.metrics import roc_curve, roc_auc_score, confusion_matrix, accuracy_score, recall_score\n",
        "\n",
        "url = \"https://raw.githubusercontent.com/AntoninaRemizova/DA/refs/heads/main/%D0%A0%D0%B5%D0%BC%D0%B8%D0%B7%D0%BE%D0%B2%D0%B0%20%D0%90%D0%BD%D1%82%D0%BE%D0%BD%D0%B8%D0%BD%D0%B0%20%D0%90%D0%BB%D0%B5%D0%BA%D1%81%D0%B0%D0%BD%D0%B4%D1%80%D0%BE%D0%B2%D0%BD%D0%B0_cards.csv\"\n",
        "df = pd.read_csv(url)\n",
        "df.head()"
      ],
      "metadata": {
        "colab": {
          "base_uri": "https://localhost:8080/",
          "height": 206
        },
        "id": "yP60nPJXiqL6",
        "outputId": "311f0811-faff-465a-e124-2b32951ce0bb"
      },
      "execution_count": 1,
      "outputs": [
        {
          "output_type": "execute_result",
          "data": {
            "text/plain": [
              "   Unnamed: 0  distance_from_home  distance_from_last_transaction  \\\n",
              "0      456458            4.368054                        1.271379   \n",
              "1      938299            2.248774                        1.852881   \n",
              "2      608622            4.816733                        0.464773   \n",
              "3      948495          388.698599                        1.012922   \n",
              "4      449930            0.861514                        2.685281   \n",
              "\n",
              "   ratio_to_median_purchase_price  repeat_retailer  used_chip  \\\n",
              "0                        0.565756              1.0        0.0   \n",
              "1                        1.779738              1.0        1.0   \n",
              "2                        1.731767              1.0        0.0   \n",
              "3                        0.124808              1.0        0.0   \n",
              "4                        2.711747              0.0        0.0   \n",
              "\n",
              "   used_pin_number  online_order  fraud  \n",
              "0              0.0           1.0    0.0  \n",
              "1              0.0           1.0    0.0  \n",
              "2              0.0           1.0    0.0  \n",
              "3              0.0           1.0    1.0  \n",
              "4              0.0           1.0    0.0  "
            ],
            "text/html": [
              "\n",
              "  <div id=\"df-6b508886-3eb0-4ac3-9960-f140829c36bb\" class=\"colab-df-container\">\n",
              "    <div>\n",
              "<style scoped>\n",
              "    .dataframe tbody tr th:only-of-type {\n",
              "        vertical-align: middle;\n",
              "    }\n",
              "\n",
              "    .dataframe tbody tr th {\n",
              "        vertical-align: top;\n",
              "    }\n",
              "\n",
              "    .dataframe thead th {\n",
              "        text-align: right;\n",
              "    }\n",
              "</style>\n",
              "<table border=\"1\" class=\"dataframe\">\n",
              "  <thead>\n",
              "    <tr style=\"text-align: right;\">\n",
              "      <th></th>\n",
              "      <th>Unnamed: 0</th>\n",
              "      <th>distance_from_home</th>\n",
              "      <th>distance_from_last_transaction</th>\n",
              "      <th>ratio_to_median_purchase_price</th>\n",
              "      <th>repeat_retailer</th>\n",
              "      <th>used_chip</th>\n",
              "      <th>used_pin_number</th>\n",
              "      <th>online_order</th>\n",
              "      <th>fraud</th>\n",
              "    </tr>\n",
              "  </thead>\n",
              "  <tbody>\n",
              "    <tr>\n",
              "      <th>0</th>\n",
              "      <td>456458</td>\n",
              "      <td>4.368054</td>\n",
              "      <td>1.271379</td>\n",
              "      <td>0.565756</td>\n",
              "      <td>1.0</td>\n",
              "      <td>0.0</td>\n",
              "      <td>0.0</td>\n",
              "      <td>1.0</td>\n",
              "      <td>0.0</td>\n",
              "    </tr>\n",
              "    <tr>\n",
              "      <th>1</th>\n",
              "      <td>938299</td>\n",
              "      <td>2.248774</td>\n",
              "      <td>1.852881</td>\n",
              "      <td>1.779738</td>\n",
              "      <td>1.0</td>\n",
              "      <td>1.0</td>\n",
              "      <td>0.0</td>\n",
              "      <td>1.0</td>\n",
              "      <td>0.0</td>\n",
              "    </tr>\n",
              "    <tr>\n",
              "      <th>2</th>\n",
              "      <td>608622</td>\n",
              "      <td>4.816733</td>\n",
              "      <td>0.464773</td>\n",
              "      <td>1.731767</td>\n",
              "      <td>1.0</td>\n",
              "      <td>0.0</td>\n",
              "      <td>0.0</td>\n",
              "      <td>1.0</td>\n",
              "      <td>0.0</td>\n",
              "    </tr>\n",
              "    <tr>\n",
              "      <th>3</th>\n",
              "      <td>948495</td>\n",
              "      <td>388.698599</td>\n",
              "      <td>1.012922</td>\n",
              "      <td>0.124808</td>\n",
              "      <td>1.0</td>\n",
              "      <td>0.0</td>\n",
              "      <td>0.0</td>\n",
              "      <td>1.0</td>\n",
              "      <td>1.0</td>\n",
              "    </tr>\n",
              "    <tr>\n",
              "      <th>4</th>\n",
              "      <td>449930</td>\n",
              "      <td>0.861514</td>\n",
              "      <td>2.685281</td>\n",
              "      <td>2.711747</td>\n",
              "      <td>0.0</td>\n",
              "      <td>0.0</td>\n",
              "      <td>0.0</td>\n",
              "      <td>1.0</td>\n",
              "      <td>0.0</td>\n",
              "    </tr>\n",
              "  </tbody>\n",
              "</table>\n",
              "</div>\n",
              "    <div class=\"colab-df-buttons\">\n",
              "\n",
              "  <div class=\"colab-df-container\">\n",
              "    <button class=\"colab-df-convert\" onclick=\"convertToInteractive('df-6b508886-3eb0-4ac3-9960-f140829c36bb')\"\n",
              "            title=\"Convert this dataframe to an interactive table.\"\n",
              "            style=\"display:none;\">\n",
              "\n",
              "  <svg xmlns=\"http://www.w3.org/2000/svg\" height=\"24px\" viewBox=\"0 -960 960 960\">\n",
              "    <path d=\"M120-120v-720h720v720H120Zm60-500h600v-160H180v160Zm220 220h160v-160H400v160Zm0 220h160v-160H400v160ZM180-400h160v-160H180v160Zm440 0h160v-160H620v160ZM180-180h160v-160H180v160Zm440 0h160v-160H620v160Z\"/>\n",
              "  </svg>\n",
              "    </button>\n",
              "\n",
              "  <style>\n",
              "    .colab-df-container {\n",
              "      display:flex;\n",
              "      gap: 12px;\n",
              "    }\n",
              "\n",
              "    .colab-df-convert {\n",
              "      background-color: #E8F0FE;\n",
              "      border: none;\n",
              "      border-radius: 50%;\n",
              "      cursor: pointer;\n",
              "      display: none;\n",
              "      fill: #1967D2;\n",
              "      height: 32px;\n",
              "      padding: 0 0 0 0;\n",
              "      width: 32px;\n",
              "    }\n",
              "\n",
              "    .colab-df-convert:hover {\n",
              "      background-color: #E2EBFA;\n",
              "      box-shadow: 0px 1px 2px rgba(60, 64, 67, 0.3), 0px 1px 3px 1px rgba(60, 64, 67, 0.15);\n",
              "      fill: #174EA6;\n",
              "    }\n",
              "\n",
              "    .colab-df-buttons div {\n",
              "      margin-bottom: 4px;\n",
              "    }\n",
              "\n",
              "    [theme=dark] .colab-df-convert {\n",
              "      background-color: #3B4455;\n",
              "      fill: #D2E3FC;\n",
              "    }\n",
              "\n",
              "    [theme=dark] .colab-df-convert:hover {\n",
              "      background-color: #434B5C;\n",
              "      box-shadow: 0px 1px 3px 1px rgba(0, 0, 0, 0.15);\n",
              "      filter: drop-shadow(0px 1px 2px rgba(0, 0, 0, 0.3));\n",
              "      fill: #FFFFFF;\n",
              "    }\n",
              "  </style>\n",
              "\n",
              "    <script>\n",
              "      const buttonEl =\n",
              "        document.querySelector('#df-6b508886-3eb0-4ac3-9960-f140829c36bb button.colab-df-convert');\n",
              "      buttonEl.style.display =\n",
              "        google.colab.kernel.accessAllowed ? 'block' : 'none';\n",
              "\n",
              "      async function convertToInteractive(key) {\n",
              "        const element = document.querySelector('#df-6b508886-3eb0-4ac3-9960-f140829c36bb');\n",
              "        const dataTable =\n",
              "          await google.colab.kernel.invokeFunction('convertToInteractive',\n",
              "                                                    [key], {});\n",
              "        if (!dataTable) return;\n",
              "\n",
              "        const docLinkHtml = 'Like what you see? Visit the ' +\n",
              "          '<a target=\"_blank\" href=https://colab.research.google.com/notebooks/data_table.ipynb>data table notebook</a>'\n",
              "          + ' to learn more about interactive tables.';\n",
              "        element.innerHTML = '';\n",
              "        dataTable['output_type'] = 'display_data';\n",
              "        await google.colab.output.renderOutput(dataTable, element);\n",
              "        const docLink = document.createElement('div');\n",
              "        docLink.innerHTML = docLinkHtml;\n",
              "        element.appendChild(docLink);\n",
              "      }\n",
              "    </script>\n",
              "  </div>\n",
              "\n",
              "\n",
              "    <div id=\"df-a6725f8e-7ff4-428c-a7e6-05d571a4e5d0\">\n",
              "      <button class=\"colab-df-quickchart\" onclick=\"quickchart('df-a6725f8e-7ff4-428c-a7e6-05d571a4e5d0')\"\n",
              "                title=\"Suggest charts\"\n",
              "                style=\"display:none;\">\n",
              "\n",
              "<svg xmlns=\"http://www.w3.org/2000/svg\" height=\"24px\"viewBox=\"0 0 24 24\"\n",
              "     width=\"24px\">\n",
              "    <g>\n",
              "        <path d=\"M19 3H5c-1.1 0-2 .9-2 2v14c0 1.1.9 2 2 2h14c1.1 0 2-.9 2-2V5c0-1.1-.9-2-2-2zM9 17H7v-7h2v7zm4 0h-2V7h2v10zm4 0h-2v-4h2v4z\"/>\n",
              "    </g>\n",
              "</svg>\n",
              "      </button>\n",
              "\n",
              "<style>\n",
              "  .colab-df-quickchart {\n",
              "      --bg-color: #E8F0FE;\n",
              "      --fill-color: #1967D2;\n",
              "      --hover-bg-color: #E2EBFA;\n",
              "      --hover-fill-color: #174EA6;\n",
              "      --disabled-fill-color: #AAA;\n",
              "      --disabled-bg-color: #DDD;\n",
              "  }\n",
              "\n",
              "  [theme=dark] .colab-df-quickchart {\n",
              "      --bg-color: #3B4455;\n",
              "      --fill-color: #D2E3FC;\n",
              "      --hover-bg-color: #434B5C;\n",
              "      --hover-fill-color: #FFFFFF;\n",
              "      --disabled-bg-color: #3B4455;\n",
              "      --disabled-fill-color: #666;\n",
              "  }\n",
              "\n",
              "  .colab-df-quickchart {\n",
              "    background-color: var(--bg-color);\n",
              "    border: none;\n",
              "    border-radius: 50%;\n",
              "    cursor: pointer;\n",
              "    display: none;\n",
              "    fill: var(--fill-color);\n",
              "    height: 32px;\n",
              "    padding: 0;\n",
              "    width: 32px;\n",
              "  }\n",
              "\n",
              "  .colab-df-quickchart:hover {\n",
              "    background-color: var(--hover-bg-color);\n",
              "    box-shadow: 0 1px 2px rgba(60, 64, 67, 0.3), 0 1px 3px 1px rgba(60, 64, 67, 0.15);\n",
              "    fill: var(--button-hover-fill-color);\n",
              "  }\n",
              "\n",
              "  .colab-df-quickchart-complete:disabled,\n",
              "  .colab-df-quickchart-complete:disabled:hover {\n",
              "    background-color: var(--disabled-bg-color);\n",
              "    fill: var(--disabled-fill-color);\n",
              "    box-shadow: none;\n",
              "  }\n",
              "\n",
              "  .colab-df-spinner {\n",
              "    border: 2px solid var(--fill-color);\n",
              "    border-color: transparent;\n",
              "    border-bottom-color: var(--fill-color);\n",
              "    animation:\n",
              "      spin 1s steps(1) infinite;\n",
              "  }\n",
              "\n",
              "  @keyframes spin {\n",
              "    0% {\n",
              "      border-color: transparent;\n",
              "      border-bottom-color: var(--fill-color);\n",
              "      border-left-color: var(--fill-color);\n",
              "    }\n",
              "    20% {\n",
              "      border-color: transparent;\n",
              "      border-left-color: var(--fill-color);\n",
              "      border-top-color: var(--fill-color);\n",
              "    }\n",
              "    30% {\n",
              "      border-color: transparent;\n",
              "      border-left-color: var(--fill-color);\n",
              "      border-top-color: var(--fill-color);\n",
              "      border-right-color: var(--fill-color);\n",
              "    }\n",
              "    40% {\n",
              "      border-color: transparent;\n",
              "      border-right-color: var(--fill-color);\n",
              "      border-top-color: var(--fill-color);\n",
              "    }\n",
              "    60% {\n",
              "      border-color: transparent;\n",
              "      border-right-color: var(--fill-color);\n",
              "    }\n",
              "    80% {\n",
              "      border-color: transparent;\n",
              "      border-right-color: var(--fill-color);\n",
              "      border-bottom-color: var(--fill-color);\n",
              "    }\n",
              "    90% {\n",
              "      border-color: transparent;\n",
              "      border-bottom-color: var(--fill-color);\n",
              "    }\n",
              "  }\n",
              "</style>\n",
              "\n",
              "      <script>\n",
              "        async function quickchart(key) {\n",
              "          const quickchartButtonEl =\n",
              "            document.querySelector('#' + key + ' button');\n",
              "          quickchartButtonEl.disabled = true;  // To prevent multiple clicks.\n",
              "          quickchartButtonEl.classList.add('colab-df-spinner');\n",
              "          try {\n",
              "            const charts = await google.colab.kernel.invokeFunction(\n",
              "                'suggestCharts', [key], {});\n",
              "          } catch (error) {\n",
              "            console.error('Error during call to suggestCharts:', error);\n",
              "          }\n",
              "          quickchartButtonEl.classList.remove('colab-df-spinner');\n",
              "          quickchartButtonEl.classList.add('colab-df-quickchart-complete');\n",
              "        }\n",
              "        (() => {\n",
              "          let quickchartButtonEl =\n",
              "            document.querySelector('#df-a6725f8e-7ff4-428c-a7e6-05d571a4e5d0 button');\n",
              "          quickchartButtonEl.style.display =\n",
              "            google.colab.kernel.accessAllowed ? 'block' : 'none';\n",
              "        })();\n",
              "      </script>\n",
              "    </div>\n",
              "    </div>\n",
              "  </div>\n"
            ],
            "application/vnd.google.colaboratory.intrinsic+json": {
              "type": "dataframe",
              "variable_name": "df",
              "summary": "{\n  \"name\": \"df\",\n  \"rows\": 1800,\n  \"fields\": [\n    {\n      \"column\": \"Unnamed: 0\",\n      \"properties\": {\n        \"dtype\": \"number\",\n        \"std\": 290970,\n        \"min\": 217,\n        \"max\": 999917,\n        \"num_unique_values\": 1800,\n        \"samples\": [\n          171671,\n          195537,\n          204410\n        ],\n        \"semantic_type\": \"\",\n        \"description\": \"\"\n      }\n    },\n    {\n      \"column\": \"distance_from_home\",\n      \"properties\": {\n        \"dtype\": \"number\",\n        \"std\": 61.17704416412642,\n        \"min\": 0.0937780104045722,\n        \"max\": 1378.3820058863969,\n        \"num_unique_values\": 1800,\n        \"samples\": [\n          187.67272332468016,\n          3.1081402347733214,\n          10.2684143094743\n        ],\n        \"semantic_type\": \"\",\n        \"description\": \"\"\n      }\n    },\n    {\n      \"column\": \"distance_from_last_transaction\",\n      \"properties\": {\n        \"dtype\": \"number\",\n        \"std\": 13.221887092220639,\n        \"min\": 0.0018973223328667,\n        \"max\": 228.9835835193393,\n        \"num_unique_values\": 1800,\n        \"samples\": [\n          16.11183123223924,\n          0.4628699099792029,\n          11.539891845293994\n        ],\n        \"semantic_type\": \"\",\n        \"description\": \"\"\n      }\n    },\n    {\n      \"column\": \"ratio_to_median_purchase_price\",\n      \"properties\": {\n        \"dtype\": \"number\",\n        \"std\": 2.9372934178917984,\n        \"min\": 0.0290493854774223,\n        \"max\": 53.69177668857965,\n        \"num_unique_values\": 1800,\n        \"samples\": [\n          0.7921051194260333,\n          0.51210172437214,\n          2.922183630276073\n        ],\n        \"semantic_type\": \"\",\n        \"description\": \"\"\n      }\n    },\n    {\n      \"column\": \"repeat_retailer\",\n      \"properties\": {\n        \"dtype\": \"number\",\n        \"std\": 0.31640886495599185,\n        \"min\": 0.0,\n        \"max\": 1.0,\n        \"num_unique_values\": 2,\n        \"samples\": [\n          0.0,\n          1.0\n        ],\n        \"semantic_type\": \"\",\n        \"description\": \"\"\n      }\n    },\n    {\n      \"column\": \"used_chip\",\n      \"properties\": {\n        \"dtype\": \"number\",\n        \"std\": 0.4815639474297741,\n        \"min\": 0.0,\n        \"max\": 1.0,\n        \"num_unique_values\": 2,\n        \"samples\": [\n          1.0,\n          0.0\n        ],\n        \"semantic_type\": \"\",\n        \"description\": \"\"\n      }\n    },\n    {\n      \"column\": \"used_pin_number\",\n      \"properties\": {\n        \"dtype\": \"number\",\n        \"std\": 0.29934098864740766,\n        \"min\": 0.0,\n        \"max\": 1.0,\n        \"num_unique_values\": 2,\n        \"samples\": [\n          1.0,\n          0.0\n        ],\n        \"semantic_type\": \"\",\n        \"description\": \"\"\n      }\n    },\n    {\n      \"column\": \"online_order\",\n      \"properties\": {\n        \"dtype\": \"number\",\n        \"std\": 0.46724566373963283,\n        \"min\": 0.0,\n        \"max\": 1.0,\n        \"num_unique_values\": 2,\n        \"samples\": [\n          0.0,\n          1.0\n        ],\n        \"semantic_type\": \"\",\n        \"description\": \"\"\n      }\n    },\n    {\n      \"column\": \"fraud\",\n      \"properties\": {\n        \"dtype\": \"number\",\n        \"std\": 0.276462204922149,\n        \"min\": 0.0,\n        \"max\": 1.0,\n        \"num_unique_values\": 2,\n        \"samples\": [\n          1.0,\n          0.0\n        ],\n        \"semantic_type\": \"\",\n        \"description\": \"\"\n      }\n    }\n  ]\n}"
            }
          },
          "metadata": {},
          "execution_count": 1
        }
      ]
    },
    {
      "cell_type": "markdown",
      "source": [
        "# Задача 1"
      ],
      "metadata": {
        "id": "Ry17r91vjL-u"
      }
    },
    {
      "cell_type": "markdown",
      "source": [
        "## Вопрос 1\n",
        "Запишите, чему равна доля мошеннических операций в данных. Укажите долю с точностью до сотых."
      ],
      "metadata": {
        "id": "jqdNUYWpjRMP"
      }
    },
    {
      "cell_type": "code",
      "source": [
        "print(round((df['fraud'].mean()), 2))"
      ],
      "metadata": {
        "colab": {
          "base_uri": "https://localhost:8080/"
        },
        "id": "qlpHWSt4jSpw",
        "outputId": "95908b62-4a15-47c8-e448-2ed885bb8440"
      },
      "execution_count": 2,
      "outputs": [
        {
          "output_type": "stream",
          "name": "stdout",
          "text": [
            "0.08\n"
          ]
        }
      ]
    },
    {
      "cell_type": "markdown",
      "source": [
        "## Задача 2\n",
        "Модель 1:\n",
        "* расстояние от дома до места совершения транзакции;\n",
        "* отношение объема транзакции к медианной сумме покупок;\n",
        "* были ли покупки у этого продавца ранее.\n",
        "---\n",
        "Модель 2:\n",
        "* расстояние от места совершения транзакции до места совершения последней транзакции;\n",
        "* отношение объема транзакции к медианной сумме покупок;\n",
        "* были ли покупки у этого продавца ранее;\n",
        "* использовался ли ПИН-код при оплате."
      ],
      "metadata": {
        "id": "OJidhYRKjYIt"
      }
    },
    {
      "cell_type": "markdown",
      "source": [
        "## Вопрос 2\n",
        "Укажите с точностью до сотых коэффициент из выдачи модели 1 при переменной расстояние от дома до места совершения транзакции."
      ],
      "metadata": {
        "id": "nJqsygWyktYT"
      }
    },
    {
      "cell_type": "code",
      "source": [
        "m1 = smf.logit('fraud ~ distance_from_home + ratio_to_median_purchase_price + repeat_retailer', data = df).fit()\n",
        "print(m1.summary())"
      ],
      "metadata": {
        "colab": {
          "base_uri": "https://localhost:8080/"
        },
        "id": "K7sV_zIMkw_e",
        "outputId": "95457410-4582-4164-ea02-f89aef6831e3"
      },
      "execution_count": 3,
      "outputs": [
        {
          "output_type": "stream",
          "name": "stdout",
          "text": [
            "Optimization terminated successfully.\n",
            "         Current function value: 0.197915\n",
            "         Iterations 7\n",
            "                           Logit Regression Results                           \n",
            "==============================================================================\n",
            "Dep. Variable:                  fraud   No. Observations:                 1800\n",
            "Model:                          Logit   Df Residuals:                     1796\n",
            "Method:                           MLE   Df Model:                            3\n",
            "Date:                Tue, 17 Jun 2025   Pseudo R-squ.:                  0.3100\n",
            "Time:                        08:56:47   Log-Likelihood:                -356.25\n",
            "converged:                       True   LL-Null:                       -516.30\n",
            "Covariance Type:            nonrobust   LLR p-value:                 4.403e-69\n",
            "==================================================================================================\n",
            "                                     coef    std err          z      P>|z|      [0.025      0.975]\n",
            "--------------------------------------------------------------------------------------------------\n",
            "Intercept                         -3.7683      0.320    -11.776      0.000      -4.395      -3.141\n",
            "distance_from_home                 0.0107      0.001      7.310      0.000       0.008       0.014\n",
            "ratio_to_median_purchase_price     0.4939      0.038     13.016      0.000       0.420       0.568\n",
            "repeat_retailer                   -0.4121      0.320     -1.286      0.198      -1.040       0.216\n",
            "==================================================================================================\n"
          ]
        }
      ]
    },
    {
      "cell_type": "markdown",
      "source": [
        "## Вопрос 3\n",
        "Укажите с точностью до сотых коэффициент из выдачи модели 2 при переменной отношение объема транзакции к медианной стоимости покупок."
      ],
      "metadata": {
        "id": "sJzULsFjk31z"
      }
    },
    {
      "cell_type": "code",
      "source": [
        "m2 = smf.logit('fraud ~ distance_from_last_transaction + ratio_to_median_purchase_price + repeat_retailer + used_pin_number', data = df).fit()\n",
        "print(m2.summary())"
      ],
      "metadata": {
        "colab": {
          "base_uri": "https://localhost:8080/"
        },
        "id": "5uiqh3KAlACt",
        "outputId": "c3a2697d-8fcd-4502-a972-df4288cd9177"
      },
      "execution_count": 4,
      "outputs": [
        {
          "output_type": "stream",
          "name": "stdout",
          "text": [
            "Optimization terminated successfully.\n",
            "         Current function value: 0.197704\n",
            "         Iterations 10\n",
            "                           Logit Regression Results                           \n",
            "==============================================================================\n",
            "Dep. Variable:                  fraud   No. Observations:                 1800\n",
            "Model:                          Logit   Df Residuals:                     1795\n",
            "Method:                           MLE   Df Model:                            4\n",
            "Date:                Tue, 17 Jun 2025   Pseudo R-squ.:                  0.3107\n",
            "Time:                        08:56:48   Log-Likelihood:                -355.87\n",
            "converged:                       True   LL-Null:                       -516.30\n",
            "Covariance Type:            nonrobust   LLR p-value:                 3.397e-68\n",
            "==================================================================================================\n",
            "                                     coef    std err          z      P>|z|      [0.025      0.975]\n",
            "--------------------------------------------------------------------------------------------------\n",
            "Intercept                         -3.8516      0.336    -11.452      0.000      -4.511      -3.192\n",
            "distance_from_last_transaction     0.0274      0.006      4.895      0.000       0.016       0.038\n",
            "ratio_to_median_purchase_price     0.5366      0.041     13.078      0.000       0.456       0.617\n",
            "repeat_retailer                    0.0020      0.326      0.006      0.995      -0.638       0.642\n",
            "used_pin_number                   -6.0129      1.499     -4.011      0.000      -8.951      -3.075\n",
            "==================================================================================================\n"
          ]
        }
      ]
    },
    {
      "cell_type": "markdown",
      "source": [
        "# Задача 3\n",
        "Постройте для модели 1 и модели 2 ROC-кривые (две кривые на одном графике вместе с прямой, соответствующей случайному классификатору) и вычислите для каждой модели значение метрики AUC."
      ],
      "metadata": {
        "id": "5BbCceDCmLw1"
      }
    },
    {
      "cell_type": "markdown",
      "source": [
        "## Вопрос 4\n",
        "Прикрепите изображение с полученным графиком."
      ],
      "metadata": {
        "id": "8ps9SL19mRWB"
      }
    },
    {
      "cell_type": "code",
      "source": [
        "df['prob1'] = m1.predict()\n",
        "df['prob2'] = m2.predict()\n",
        "fpr1, tpr1, _ = roc_curve(df['fraud'], df['prob1'])\n",
        "fpr2, tpr2, _ = roc_curve(df['fraud'], df['prob2'])\n",
        "auc1 = roc_auc_score(df['fraud'], df['prob1'])\n",
        "auc2 = roc_auc_score(df['fraud'], df['prob2'])\n",
        "\n",
        "plt.figure(dpi = 300)\n",
        "plt.plot(fpr1, tpr1, label = f'Model 1 (AUC = {auc1:.3f})', color = 'blue')\n",
        "plt.plot(fpr2, tpr2, label = f'Model 2 (AUC = {auc2:.3f})', color = 'green')\n",
        "plt.plot([0, 1], [0, 1],'r--')\n",
        "plt.xlabel('False Positive Rate')\n",
        "plt.ylabel('True Positive Rate')\n",
        "plt.title('ROC curve')\n",
        "plt.grid(True)\n",
        "plt.legend()\n",
        "plt.show()"
      ],
      "metadata": {
        "colab": {
          "base_uri": "https://localhost:8080/",
          "height": 1000
        },
        "id": "6Tsj2r4XmU6-",
        "outputId": "691e1887-878d-4ffe-e993-48215f678c7b"
      },
      "execution_count": 5,
      "outputs": [
        {
          "output_type": "display_data",
          "data": {
            "text/plain": [
              "<Figure size 1920x1440 with 1 Axes>"
            ],
            "image/png": "[encoded data removed]"
          },
          "metadata": {}
        }
      ]
    },
    {
      "cell_type": "markdown",
      "source": [
        "## Вопрос 5\n",
        "Укажите с точностью до тысячных значение AUC для модели 1."
      ],
      "metadata": {
        "id": "5UM8Ou91mVRF"
      }
    },
    {
      "cell_type": "code",
      "source": [
        "print(round(auc1, 3))"
      ],
      "metadata": {
        "colab": {
          "base_uri": "https://localhost:8080/"
        },
        "id": "fAeGcYjJmXGt",
        "outputId": "d0403375-33e7-4eb4-cf5d-c6e51d37ea75"
      },
      "execution_count": 6,
      "outputs": [
        {
          "output_type": "stream",
          "name": "stdout",
          "text": [
            "0.942\n"
          ]
        }
      ]
    },
    {
      "cell_type": "markdown",
      "source": [
        "## Вопрос 6\n",
        "Укажите с точностью до тысячных значение AUC для модели 2."
      ],
      "metadata": {
        "id": "X0CpsiwRmXnY"
      }
    },
    {
      "cell_type": "code",
      "source": [
        "print(round(auc2, 3))"
      ],
      "metadata": {
        "colab": {
          "base_uri": "https://localhost:8080/"
        },
        "id": "XR6yZdNEmbek",
        "outputId": "57c723fc-bba7-43f9-bd21-d187900a9b00"
      },
      "execution_count": 7,
      "outputs": [
        {
          "output_type": "stream",
          "name": "stdout",
          "text": [
            "0.881\n"
          ]
        }
      ]
    },
    {
      "cell_type": "markdown",
      "source": [
        "# Задача 4\n",
        "Опираясь на результаты предыдущей задачи, выберите модель с лучшей предсказательной силой и вычислите предельные эффекты независимых переменных на вероятность мошеннической операции для медианной транзакции."
      ],
      "metadata": {
        "id": "0ArvvAVdvKR_"
      }
    },
    {
      "cell_type": "code",
      "source": [
        "best_model = m1"
      ],
      "metadata": {
        "id": "WPQkO9ipvOAQ"
      },
      "execution_count": 8,
      "outputs": []
    },
    {
      "cell_type": "markdown",
      "source": [
        "## Вопрос 7\n",
        "Укажите характеристики медианной транзакции (медианы независимых переменных в модели).\n"
      ],
      "metadata": {
        "id": "eC-0ieEvvYrC"
      }
    },
    {
      "cell_type": "code",
      "source": [
        "median_transaction = df[['distance_from_home', 'ratio_to_median_purchase_price', 'repeat_retailer']].median()\n",
        "print(median_transaction)"
      ],
      "metadata": {
        "colab": {
          "base_uri": "https://localhost:8080/"
        },
        "id": "QEBLrcMwvh3W",
        "outputId": "b6ac0c5d-1a32-4962-e923-8888133115ab"
      },
      "execution_count": 9,
      "outputs": [
        {
          "output_type": "stream",
          "name": "stdout",
          "text": [
            "distance_from_home                9.887376\n",
            "ratio_to_median_purchase_price    1.010320\n",
            "repeat_retailer                   1.000000\n",
            "dtype: float64\n"
          ]
        }
      ]
    },
    {
      "cell_type": "markdown",
      "source": [
        "## Вопрос 8\n",
        "Укажите, эффекты каких независимых переменных можно считать статистически значимыми, то есть отличными от 0, на уровне значимости 5%. Перечислите их названия (как в выдаче).\n"
      ],
      "metadata": {
        "id": "mD1RacltviEN"
      }
    },
    {
      "cell_type": "code",
      "source": [
        "marg_effect = best_model.get_margeff(at = 'median')\n",
        "print(marg_effect.summary())"
      ],
      "metadata": {
        "colab": {
          "base_uri": "https://localhost:8080/"
        },
        "id": "8jhw5a2hvrVJ",
        "outputId": "60e0fb1c-4e59-4829-8978-ca4e2db321bf"
      },
      "execution_count": 10,
      "outputs": [
        {
          "output_type": "stream",
          "name": "stdout",
          "text": [
            "        Logit Marginal Effects       \n",
            "=====================================\n",
            "Dep. Variable:                  fraud\n",
            "Method:                          dydx\n",
            "At:                            median\n",
            "==================================================================================================\n",
            "                                    dy/dx    std err          z      P>|z|      [0.025      0.975]\n",
            "--------------------------------------------------------------------------------------------------\n",
            "distance_from_home                 0.0003   4.23e-05      6.724      0.000       0.000       0.000\n",
            "ratio_to_median_purchase_price     0.0131      0.002      8.611      0.000       0.010       0.016\n",
            "repeat_retailer                   -0.0109      0.008     -1.347      0.178      -0.027       0.005\n",
            "==================================================================================================\n"
          ]
        }
      ]
    },
    {
      "cell_type": "markdown",
      "source": [
        "distance_from_home, ratio_to_median_purchase_price"
      ],
      "metadata": {
        "id": "2DMqaW0hT3aT"
      }
    },
    {
      "cell_type": "markdown",
      "source": [
        "## Вопрос 9\n",
        "Укажите значение предельного эффекта при переменной отношение объема транзакции к медианной сумме покупок. Проинтерпретируйте содержательно это значение, объясните, что оно показывает (интерпретируйте в любом случае, даже если эффект в вашей модели оказался статистически незначимым)."
      ],
      "metadata": {
        "id": "0U32zp-Rvrm7"
      }
    },
    {
      "cell_type": "markdown",
      "source": [
        "Увеличение отношения объема транзакции к медианной сумме покупок на 1 у.е. при фиксированных медианных значениях других переменных статистически значимо повышает вероятность мошенничества на 1.31%, что указывает на повышенный риск для более крупных транзакций"
      ],
      "metadata": {
        "id": "q1sUrY1GSeFw"
      }
    },
    {
      "cell_type": "markdown",
      "source": [
        "## Вопрос 10\n",
        "Укажите значение предельного эффекта при бинарной независимой переменной в выбранной модели. Проинтерпретируйте содержательно это значение, объясните, что оно показывает (интерпретируйте в любом случае, даже если эффект в вашей модели оказался статистически незначимым)."
      ],
      "metadata": {
        "id": "uHLTwxsAvvpE"
      }
    },
    {
      "cell_type": "markdown",
      "source": [
        "Переход от покупок у новых продавцов к знакомым при фиксированных медианных значениях других переменных статистически (не)значимо снижает вероятность\n",
        "мошенничества на 1.09%, что указывает на меньший риск мошенничества при работе с проверенными продавцами"
      ],
      "metadata": {
        "id": "H1pifwu2Uxeu"
      }
    },
    {
      "cell_type": "markdown",
      "source": [
        "# Задача 5\n",
        "Выполните классификацию всех транзакций в данных с помощью выбранной модели, приняв пороговое значение вероятности для класса 1 равным базовому значению 0.5."
      ],
      "metadata": {
        "id": "prKhGImUV8gZ"
      }
    },
    {
      "cell_type": "code",
      "source": [
        "tab = best_model.pred_table(threshold = 0.5)\n",
        "print(tab)\n",
        "TN = tab[0, 0]\n",
        "TP = tab[1, 1]\n",
        "FN = tab[1, 0]\n",
        "FP = tab[0, 1]"
      ],
      "metadata": {
        "colab": {
          "base_uri": "https://localhost:8080/"
        },
        "id": "awDQ4TmaYJ5V",
        "outputId": "96badd8e-cc88-4d70-dc60-b4c4c1bc9e9e"
      },
      "execution_count": 11,
      "outputs": [
        {
          "output_type": "stream",
          "name": "stdout",
          "text": [
            "[[1626.   24.]\n",
            " [ 110.   40.]]\n"
          ]
        }
      ]
    },
    {
      "cell_type": "markdown",
      "source": [
        "## Вопрос 11\n",
        "Запишите значение точности (accuracy) классификации с точностью до сотых."
      ],
      "metadata": {
        "id": "zEvJPSg0WIR4"
      }
    },
    {
      "cell_type": "code",
      "source": [
        "accuracy = (TP + TN) / (TP + TN + FP + FN)\n",
        "print(round(accuracy, 2))"
      ],
      "metadata": {
        "colab": {
          "base_uri": "https://localhost:8080/"
        },
        "id": "Y8Af0J94V8MH",
        "outputId": "fd088515-0efa-446b-fbb1-c0056c10f218"
      },
      "execution_count": 12,
      "outputs": [
        {
          "output_type": "stream",
          "name": "stdout",
          "text": [
            "0.93\n"
          ]
        }
      ]
    },
    {
      "cell_type": "markdown",
      "source": [
        "## Вопрос 12\n",
        "Запишите значение чувствительности модели с точностью до сотых."
      ],
      "metadata": {
        "id": "62qbVJQjWO1V"
      }
    },
    {
      "cell_type": "code",
      "source": [
        "sensitivity = TP / (TP + FN) if (TP + FN) > 0 else 0\n",
        "print(round(sensitivity, 2))"
      ],
      "metadata": {
        "colab": {
          "base_uri": "https://localhost:8080/"
        },
        "id": "GZzGqS7eWUzL",
        "outputId": "05a54ecd-57b9-4629-f555-78381c93b0d4"
      },
      "execution_count": 13,
      "outputs": [
        {
          "output_type": "stream",
          "name": "stdout",
          "text": [
            "0.27\n"
          ]
        }
      ]
    },
    {
      "cell_type": "markdown",
      "source": [
        "## Вопрос 13\n",
        "Запишите значение специфичности модели с точностью до сотых."
      ],
      "metadata": {
        "id": "6HZXtVUHWVSP"
      }
    },
    {
      "cell_type": "code",
      "source": [
        "specificity = TN / (TN + FP) if (TN + FP) > 0 else 0\n",
        "print(round(specificity, 2))"
      ],
      "metadata": {
        "colab": {
          "base_uri": "https://localhost:8080/"
        },
        "id": "IpmJTZA_WaEe",
        "outputId": "e1e634b7-cd87-47ff-ac95-063dcce81142"
      },
      "execution_count": 14,
      "outputs": [
        {
          "output_type": "stream",
          "name": "stdout",
          "text": [
            "0.99\n"
          ]
        }
      ]
    },
    {
      "cell_type": "markdown",
      "source": [
        "# Задача 6\n",
        "Задача выявления аномалий (а к ним, в частности, относится и выявление случаев мошенничества) отличается от стандартных задач классификации. Одно из отличий заключается в том, что при выявлении аномалий мы имеем дело со случаем несбалансированных классов – число аномалий обычно сильно меньше числа «нормальных» наблюдений. Поэтому пороговое значение вероятности 0.5 вряд ли приведет к хорошему качеству классификации.\n",
        "\n",
        "Измените пороговое значение вероятности и повторите классификацию транзакций в данных с использованием обновленного порогового значения."
      ],
      "metadata": {
        "id": "rlpDIyK4Z5yG"
      }
    },
    {
      "cell_type": "code",
      "source": [
        "thresholds = np.linspace(0, 1, 100)\n",
        "f2_scores = []\n",
        "\n",
        "for t in thresholds:\n",
        "    tab = best_model.pred_table(threshold = t)\n",
        "    TN = tab[0, 0]\n",
        "    TP = tab[1, 1]\n",
        "    FN = tab[1, 0]\n",
        "    FP = tab[0, 1]\n",
        "\n",
        "    precision = TP / (TP + FP) if (TP + FP) > 0 else 0\n",
        "    recall = TP / (TP + FN) if (TP + FN) > 0 else 0\n",
        "    f2 = (5 * precision * recall) / (4 * precision + recall) if (4 * precision + recall) > 0 else 0\n",
        "    f2_scores.append(f2)\n",
        "\n",
        "optimal_threshold = thresholds[np.argmax(f2_scores)]\n",
        "tab_new = best_model.pred_table(threshold = optimal_threshold)\n",
        "print(tab_new)\n",
        "TN_new = tab_new[0, 0]\n",
        "TP_new = tab_new[1, 1]\n",
        "FN_new = tab_new[1, 0]\n",
        "FP_new = tab_new[0, 1]"
      ],
      "metadata": {
        "colab": {
          "base_uri": "https://localhost:8080/"
        },
        "id": "3xevUFMkaMZQ",
        "outputId": "3e0af8d6-80cf-4195-8c52-98da52148e19"
      },
      "execution_count": 25,
      "outputs": [
        {
          "output_type": "stream",
          "name": "stdout",
          "text": [
            "[[1519.  131.]\n",
            " [  20.  130.]]\n"
          ]
        }
      ]
    },
    {
      "cell_type": "markdown",
      "source": [
        "## Вопрос 14\n",
        "Укажите новое пороговое значение и кратко прокомментируйте, почему выбрали его."
      ],
      "metadata": {
        "id": "7pQyRhJIaEnU"
      }
    },
    {
      "cell_type": "code",
      "source": [
        "print(round(optimal_threshold, 1))"
      ],
      "metadata": {
        "colab": {
          "base_uri": "https://localhost:8080/"
        },
        "id": "EUxyrkaMaMHr",
        "outputId": "400180bf-6e21-4658-ed71-32c0266169f8"
      },
      "execution_count": 24,
      "outputs": [
        {
          "output_type": "stream",
          "name": "stdout",
          "text": [
            "0.1\n"
          ]
        }
      ]
    },
    {
      "cell_type": "markdown",
      "source": [
        "Новое пороговое значение было определено путем максимизации F2-меры, которая уделяет приоритетное внимание полноте выявления, позволяя находить максимальное количество мошеннических операций, ценой увеличения ложных срабатываний."
      ],
      "metadata": {
        "id": "LPyupJ_WISqn"
      }
    },
    {
      "cell_type": "markdown",
      "source": [
        "## Вопрос 15\n",
        "Запишите значение точности (accuracy) обновленной классификации с точностью до сотых."
      ],
      "metadata": {
        "id": "x_gsURyAaMzH"
      }
    },
    {
      "cell_type": "code",
      "source": [
        "accuracy_new = (TP_new + TN_new) / (TP_new + TN_new + FP_new + FN_new)\n",
        "print(round(accuracy_new, 2))"
      ],
      "metadata": {
        "colab": {
          "base_uri": "https://localhost:8080/"
        },
        "id": "TS3oBPQ7aVoZ",
        "outputId": "8ec44b3e-fce1-4168-e3bd-63e112c4fa1a"
      },
      "execution_count": 26,
      "outputs": [
        {
          "output_type": "stream",
          "name": "stdout",
          "text": [
            "0.92\n"
          ]
        }
      ]
    },
    {
      "cell_type": "markdown",
      "source": [
        "## Вопрос 16\n",
        "Запишите обновленное значение чувствительности модели с точностью до сотых."
      ],
      "metadata": {
        "id": "CaEt5TGVaV-B"
      }
    },
    {
      "cell_type": "code",
      "source": [
        "sensitivity_new = TP_new / (TP_new + FN_new) if (TP_new + FN_new) > 0 else 0\n",
        "print(round(sensitivity_new, 2))"
      ],
      "metadata": {
        "colab": {
          "base_uri": "https://localhost:8080/"
        },
        "id": "QeztFgQ-acPp",
        "outputId": "d516fb2c-6b74-4f2a-aba3-f22fc53e2080"
      },
      "execution_count": 27,
      "outputs": [
        {
          "output_type": "stream",
          "name": "stdout",
          "text": [
            "0.87\n"
          ]
        }
      ]
    },
    {
      "cell_type": "markdown",
      "source": [
        "## Вопрос 17\n",
        "Запишите обновленное значение специфичности модели с точностью до сотых."
      ],
      "metadata": {
        "id": "n3TunQC0acfC"
      }
    },
    {
      "cell_type": "code",
      "source": [
        "specificity_new = TN_new / (TN_new + FP_new) if (TN_new + FP_new) > 0 else 0\n",
        "print(round(specificity_new, 2))"
      ],
      "metadata": {
        "colab": {
          "base_uri": "https://localhost:8080/"
        },
        "id": "vakcM013ag0W",
        "outputId": "0579ac02-844f-47d9-ca6a-8ddca51ed67a"
      },
      "execution_count": 28,
      "outputs": [
        {
          "output_type": "stream",
          "name": "stdout",
          "text": [
            "0.92\n"
          ]
        }
      ]
    },
    {
      "cell_type": "markdown",
      "source": [
        "# Задача 7"
      ],
      "metadata": {
        "id": "1jhvJCvdMyqJ"
      }
    },
    {
      "cell_type": "markdown",
      "source": [
        "## Вопрос 18\n",
        "Запишите предсказанное значение вероятности, согласно вашей итоговой модели, для транзакции с медианными характеристиками."
      ],
      "metadata": {
        "id": "w_iGyQFlM5a9"
      }
    },
    {
      "cell_type": "code",
      "source": [
        "best_model.predict(median_transaction)"
      ],
      "metadata": {
        "colab": {
          "base_uri": "https://localhost:8080/",
          "height": 115
        },
        "id": "DEE2Du42M_Ek",
        "outputId": "514ac5e0-d9ca-44c5-aba8-b1d91fd5ddc0"
      },
      "execution_count": 37,
      "outputs": [
        {
          "output_type": "execute_result",
          "data": {
            "text/plain": [
              "0    0.027243\n",
              "dtype: float64"
            ],
            "text/html": [
              "<div>\n",
              "<style scoped>\n",
              "    .dataframe tbody tr th:only-of-type {\n",
              "        vertical-align: middle;\n",
              "    }\n",
              "\n",
              "    .dataframe tbody tr th {\n",
              "        vertical-align: top;\n",
              "    }\n",
              "\n",
              "    .dataframe thead th {\n",
              "        text-align: right;\n",
              "    }\n",
              "</style>\n",
              "<table border=\"1\" class=\"dataframe\">\n",
              "  <thead>\n",
              "    <tr style=\"text-align: right;\">\n",
              "      <th></th>\n",
              "      <th>0</th>\n",
              "    </tr>\n",
              "  </thead>\n",
              "  <tbody>\n",
              "    <tr>\n",
              "      <th>0</th>\n",
              "      <td>0.027243</td>\n",
              "    </tr>\n",
              "  </tbody>\n",
              "</table>\n",
              "</div><br><label><b>dtype:</b> float64</label>"
            ]
          },
          "metadata": {},
          "execution_count": 37
        }
      ]
    },
    {
      "cell_type": "markdown",
      "source": [
        "## Вопрос 19\n",
        "К какому классу (0 – обычная или 1 – мошенническая) будет отнесена такая транзакция?"
      ],
      "metadata": {
        "id": "mqqbDV1qNCqx"
      }
    },
    {
      "cell_type": "markdown",
      "source": [
        "Медианная транзакция будет отнесена к классу 0, т.к. вероятность меньше порогового значения"
      ],
      "metadata": {
        "id": "XUPiaKm0NG8F"
      }
    }
  ]
}